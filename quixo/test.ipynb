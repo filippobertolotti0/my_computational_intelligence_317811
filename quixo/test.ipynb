{
 "cells": [
  {
   "cell_type": "code",
   "execution_count": 7,
   "metadata": {},
   "outputs": [
    {
     "data": {
      "text/plain": [
       "0"
      ]
     },
     "execution_count": 7,
     "metadata": {},
     "output_type": "execute_result"
    }
   ],
   "source": [
    "def recursive(tot: int, deep: int) -> int:\n",
    "    tot += tot\n",
    "    deep -=1\n",
    "    if deep == 0: return tot\n",
    "    else:\n",
    "        recursive(tot, deep)\n",
    "        return tot\n",
    "    \n",
    "recursive(0,5)"
   ]
  },
  {
   "cell_type": "code",
   "execution_count": 6,
   "metadata": {},
   "outputs": [
    {
     "data": {
      "text/plain": [
       "8002753"
      ]
     },
     "execution_count": 6,
     "metadata": {},
     "output_type": "execute_result"
    }
   ],
   "source": [
    "import pickle\n",
    "\n",
    "try:\n",
    "    with open('cache', 'rb') as file:\n",
    "        cache = pickle.load(file)\n",
    "except FileNotFoundError:\n",
    "                cache = {}\n",
    "\n",
    "len(cache)"
   ]
  },
  {
   "cell_type": "code",
   "execution_count": 5,
   "metadata": {},
   "outputs": [
    {
     "data": {
      "text/plain": [
       "7965514"
      ]
     },
     "execution_count": 5,
     "metadata": {},
     "output_type": "execute_result"
    }
   ],
   "source": [
    "import pickle\n",
    "\n",
    "try:\n",
    "    with open('cache', 'rb') as file:\n",
    "        cache = pickle.load(file)\n",
    "except FileNotFoundError:\n",
    "                cache = {}\n",
    "\n",
    "len(cache)\n",
    "        \n"
   ]
  }
 ],
 "metadata": {
  "kernelspec": {
   "display_name": "Python 3",
   "language": "python",
   "name": "python3"
  },
  "language_info": {
   "codemirror_mode": {
    "name": "ipython",
    "version": 3
   },
   "file_extension": ".py",
   "mimetype": "text/x-python",
   "name": "python",
   "nbconvert_exporter": "python",
   "pygments_lexer": "ipython3",
   "version": "3.11.0"
  }
 },
 "nbformat": 4,
 "nbformat_minor": 2
}
