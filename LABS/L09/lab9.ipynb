{
 "cells": [
  {
   "cell_type": "markdown",
   "metadata": {},
   "source": [
    "Copyright **`(c)`** 2023 Giovanni Squillero `<giovanni.squillero@polito.it>`  \n",
    "[`https://github.com/squillero/computational-intelligence`](https://github.com/squillero/computational-intelligence)  \n",
    "Free for personal or classroom use; see [`LICENSE.md`](https://github.com/squillero/computational-intelligence/blob/master/LICENSE.md) for details.  "
   ]
  },
  {
   "cell_type": "markdown",
   "metadata": {},
   "source": [
    "# LAB9\n",
    "\n",
    "Write a local-search algorithm (eg. an EA) able to solve the *Problem* instances 1, 2, 5, and 10 on a 1000-loci genomes, using a minimum number of fitness calls. That's all.\n",
    "\n",
    "### Deadlines:\n",
    "\n",
    "* Submission: Sunday, December 3 ([CET](https://www.timeanddate.com/time/zones/cet))\n",
    "* Reviews: Sunday, December 10 ([CET](https://www.timeanddate.com/time/zones/cet))\n",
    "\n",
    "Notes:\n",
    "\n",
    "* Reviews will be assigned  on Monday, December 4\n",
    "* You need to commit in order to be selected as a reviewer (ie. better to commit an empty work than not to commit)"
   ]
  },
  {
   "cell_type": "code",
   "execution_count": 1,
   "metadata": {},
   "outputs": [],
   "source": [
    "from random import choices\n",
    "import random\n",
    "from tqdm.notebook import tqdm\n",
    "import numpy as np\n",
    "from matplotlib import pyplot as plt\n",
    "from matplotlib import cm\n",
    "\n",
    "import lab9_lib"
   ]
  },
  {
   "cell_type": "code",
   "execution_count": 2,
   "metadata": {},
   "outputs": [],
   "source": [
    "INSTANCE = [1,2,5,10]       \n",
    "GENOMES = 1000              #individual size\n",
    "SIZE = 10                   #population size"
   ]
  },
  {
   "cell_type": "code",
   "execution_count": 3,
   "metadata": {},
   "outputs": [],
   "source": [
    "def parent_selection(population, I):\n",
    "    \"\"\"choose a parent from the best I of the population\"\"\"\n",
    "    parent = population[np.random.randint(0, I)]\n",
    "    return parent\n",
    "\n",
    "def xover(parent1, parent2):\n",
    "    \"\"\"crossover between the two parents\"\"\"\n",
    "    return [p1 if r < .5 else p2 for p1, p2, r in zip(parent1, parent2, np.random.random(GENOMES))]\n",
    "\n",
    "def mutate(ind):\n",
    "    \"\"\"new individual gaussian mutation\"\"\"\n",
    "    SD = 0.2\n",
    "    mutation = np.random.normal(0, SD, GENOMES)\n",
    "    mutated = [int(round(c + m)) % 2 for c, m in zip(ind, mutation)]    #gaussian mutation\n",
    "    # segments = [mutated[i:i+5] for i in range(0, len(mutated), 5)]      #divide the individual in segments\n",
    "    # random.shuffle(segments)                                            #shuffle the segments\n",
    "    # return [gen for seg in segments for gen in seg]                     #return the individual reassembled\n",
    "    return mutated"
   ]
  },
  {
   "cell_type": "code",
   "execution_count": 4,
   "metadata": {},
   "outputs": [
    {
     "name": "stdout",
     "output_type": "stream",
     "text": [
      "Problem instance 1\n",
      "Best fitness: 97.00%\n",
      "Fitness calls: 98745\n",
      "Number of generations: 19748\n",
      "\n",
      "Problem instance 2\n",
      "Best fitness: 47.80%\n",
      "Fitness calls: 28530\n",
      "Number of generations: 5705\n",
      "\n",
      "Problem instance 5\n",
      "Best fitness: 48.88%\n",
      "Fitness calls: 68720\n",
      "Number of generations: 13743\n",
      "\n",
      "Problem instance 10\n",
      "Best fitness: 31.99%\n",
      "Fitness calls: 70730\n",
      "Number of generations: 14145\n",
      "\n",
      "Total number of fitness calls: 266725\n"
     ]
    }
   ],
   "source": [
    "FC = 0      #total number of fitness call\n",
    "\n",
    "for I in INSTANCE:    \n",
    "    fitness = lab9_lib.make_problem(I)\n",
    "    \n",
    "    individuals = []\n",
    "    for k in range(SIZE):\n",
    "        \"\"\"initial population\"\"\"\n",
    "        ind = choices([0,1], k=GENOMES)\n",
    "        fit = fitness(ind)\n",
    "        individuals.append((ind, fit))\n",
    "\n",
    "    generations = 1\n",
    "    no_improvement = 0\n",
    "    best = 0.0\n",
    "\n",
    "    individuals = sorted(individuals, key=lambda i:i[1], reverse=True)      #sorting based on fitness\n",
    "\n",
    "    while True:\n",
    "        generations += 1\n",
    "        for k in range(SIZE//2):\n",
    "            \"\"\"substitute worst size/2 individuals with new ones\"\"\"\n",
    "            p1, p2 = parent_selection(individuals, SIZE/2), parent_selection(individuals, SIZE/2)\n",
    "            newInd = mutate(xover(p1[0], p2[0]))\n",
    "            individuals[SIZE-1-k] = (newInd, fitness(newInd))\n",
    "        individuals = sorted(individuals, key=lambda i:i[1], reverse=True)  #sorting based on fitness\n",
    "        if (individuals[0][1] - best > 0):\n",
    "            if (individuals[0][1] - best)*100 > 0.1:\n",
    "                no_improvement = 0      #fitness improvement good enough: let's keep going with the algorithm\n",
    "            best = individuals[0][1]\n",
    "        no_improvement += 1\n",
    "        if no_improvement == 2_000: break   #for n times the fitness improvement has not been good enough so stop the algorithm\n",
    "\n",
    "    FC += fitness.calls     #increment total number of fitness call\n",
    "\n",
    "    print(f\"Problem instance {I}\")\n",
    "    print(f\"Best fitness: {individuals[0][1]:.2%}\")\n",
    "    print(f\"Fitness calls: {fitness.calls}\")\n",
    "    print(f\"Number of generations: {generations}\")\n",
    "    print(\"\")\n",
    "\n",
    "print(f\"Total number of fitness calls: {FC}\")"
   ]
  }
 ],
 "metadata": {
  "kernelspec": {
   "display_name": "ci-fLJ3OwGs-py3.12",
   "language": "python",
   "name": "python3"
  },
  "language_info": {
   "codemirror_mode": {
    "name": "ipython",
    "version": 3
   },
   "file_extension": ".py",
   "mimetype": "text/x-python",
   "name": "python",
   "nbconvert_exporter": "python",
   "pygments_lexer": "ipython3",
   "version": "3.11.0"
  }
 },
 "nbformat": 4,
 "nbformat_minor": 2
}
