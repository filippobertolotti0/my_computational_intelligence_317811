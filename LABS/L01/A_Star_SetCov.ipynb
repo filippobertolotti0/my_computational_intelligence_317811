{
 "cells": [
  {
   "cell_type": "code",
   "execution_count": 594,
   "metadata": {},
   "outputs": [],
   "source": [
    "from random import random\n",
    "from functools import reduce\n",
    "from collections import namedtuple\n",
    "from queue import SimpleQueue\n",
    "\n",
    "import numpy as np"
   ]
  },
  {
   "cell_type": "code",
   "execution_count": 595,
   "metadata": {},
   "outputs": [],
   "source": [
    "PROBLEM_SIZE = 30\n",
    "NUM_SETS = 150\n",
    "# SETS = tuple(\n",
    "#     np.array([random() < 0.3 for _ in range(PROBLEM_SIZE)])\n",
    "#     for _ in range(NUM_SETS)\n",
    "# )\n",
    "State = namedtuple('State', ['taken', 'not_taken', 'MAX_H'])  # MAX_H = max number of TRUE values in the state"
   ]
  },
  {
   "cell_type": "code",
   "execution_count": 596,
   "metadata": {},
   "outputs": [],
   "source": [
    "def goal_check(state, sets):\n",
    "    return np.all(reduce(\n",
    "        np.logical_or,\n",
    "        [sets[i] for i in state.taken],\n",
    "        np.array([False for _ in range(PROBLEM_SIZE)]),\n",
    "    ))\n",
    "\n",
    "\n",
    "def distance(state, sets):\n",
    "    return PROBLEM_SIZE - sum(\n",
    "        reduce(\n",
    "            np.logical_or,\n",
    "            [sets[i] for i in state.taken],\n",
    "            np.array([False for _ in range(PROBLEM_SIZE)]),\n",
    "        ))\n",
    "\n",
    "def heuristic(i, sets):   # return the tile's number of TRUE values\n",
    "    h = 0\n",
    "    for boolean in sets[i]:\n",
    "        if boolean: h+=1\n",
    "    return h"
   ]
  },
  {
   "cell_type": "code",
   "execution_count": 597,
   "metadata": {},
   "outputs": [],
   "source": [
    "# assert goal_check(\n",
    "#     State(set(range(NUM_SETS)), set(), 0)\n",
    "# ), \"Probelm not solvable\""
   ]
  },
  {
   "cell_type": "code",
   "execution_count": 598,
   "metadata": {},
   "outputs": [
    {
     "name": "stdout",
     "output_type": "stream",
     "text": [
      "Average steps: 54\n",
      "Average tiles: 0.05\n"
     ]
    },
    {
     "data": {
      "text/plain": [
       "State(taken={11, 108, 144, 84, 89}, not_taken={0, 1, 2, 3, 4, 5, 6, 7, 8, 9, 10, 12, 13, 14, 15, 16, 17, 18, 19, 20, 21, 22, 23, 24, 25, 26, 27, 28, 29, 30, 31, 32, 33, 34, 35, 36, 37, 38, 39, 40, 41, 42, 43, 44, 45, 46, 47, 48, 49, 50, 51, 52, 53, 54, 55, 56, 57, 58, 59, 60, 61, 62, 63, 64, 65, 66, 67, 68, 69, 70, 71, 72, 73, 74, 75, 76, 77, 78, 79, 80, 81, 82, 83, 85, 86, 87, 88, 90, 91, 92, 93, 94, 95, 96, 97, 98, 99, 100, 101, 102, 103, 104, 105, 106, 107, 109, 110, 111, 112, 113, 114, 115, 116, 117, 118, 119, 120, 121, 122, 123, 124, 125, 126, 127, 128, 129, 130, 131, 132, 133, 134, 135, 136, 137, 138, 139, 140, 141, 142, 143, 145, 146, 147, 148, 149}, MAX_H=13)"
      ]
     },
     "execution_count": 598,
     "metadata": {},
     "output_type": "execute_result"
    }
   ],
   "source": [
    "counter = 0\n",
    "sol_lenght = 0\n",
    "\n",
    "for _ in range(1) :\n",
    "    sets = tuple(\n",
    "        np.array([random() < 0.3 for _ in range(PROBLEM_SIZE)])\n",
    "        for _ in range(NUM_SETS)\n",
    "    )\n",
    "\n",
    "    frontier = SimpleQueue()\n",
    "    state = State(set(), set(range(NUM_SETS)), PROBLEM_SIZE)\n",
    "    frontier.put((distance(state, sets), state))\n",
    "    _, current_state = frontier.get()\n",
    "    \n",
    "    while not goal_check(current_state, sets):\n",
    "        flag = False\n",
    "        counter += 1\n",
    "        for action in current_state[1]:\n",
    "            H = heuristic(action, sets)\n",
    "            if H == current_state.MAX_H:    #search starting from the tiles with MAX_H number of TRUE\n",
    "                new_state = State(\n",
    "                    current_state.taken ^ {action},\n",
    "                    current_state.not_taken ^ {action},\n",
    "                    current_state.MAX_H,\n",
    "                )\n",
    "                frontier.put((distance(new_state, sets), new_state))\n",
    "                flag = True\n",
    "        if not flag:                        #if \"tile not found\" decrease MAX_H\n",
    "            new_state = State(\n",
    "                current_state.taken,\n",
    "                current_state.not_taken,\n",
    "                current_state.MAX_H - 1,\n",
    "            )\n",
    "            frontier.put((distance(new_state, sets), new_state))\n",
    "        _, current_state = frontier.get()\n",
    "    \n",
    "    sol_lenght += len(current_state.taken)\n",
    "\n",
    "print(f\"Average steps: {counter/100}\")\n",
    "print(f\"Average tiles: {sol_lenght/100}\")\n",
    "# print(f\"Solved in {counter} steps ({len(current_state.taken)} tiles)\")\n",
    "current_state\n"
   ]
  }
 ],
 "metadata": {
  "kernelspec": {
   "display_name": "venv",
   "language": "python",
   "name": "python3"
  },
  "language_info": {
   "codemirror_mode": {
    "name": "ipython",
    "version": 3
   },
   "file_extension": ".py",
   "mimetype": "text/x-python",
   "name": "python",
   "nbconvert_exporter": "python",
   "pygments_lexer": "ipython3",
   "version": "3.11.0"
  }
 },
 "nbformat": 4,
 "nbformat_minor": 2
}
