{
 "cells": [
  {
   "cell_type": "markdown",
   "metadata": {},
   "source": [
    "Copyright **`(c)`** 2023 Giovanni Squillero `<giovanni.squillero@polito.it>`  \n",
    "[`https://github.com/squillero/computational-intelligence`](https://github.com/squillero/computational-intelligence)  \n",
    "Free for personal or classroom use; see [`LICENSE.md`](https://github.com/squillero/computational-intelligence/blob/master/LICENSE.md) for details.  "
   ]
  },
  {
   "cell_type": "code",
   "execution_count": 31,
   "metadata": {},
   "outputs": [],
   "source": [
    "from itertools import combinations\n",
    "from collections import namedtuple, defaultdict\n",
    "import random\n",
    "from copy import deepcopy\n",
    "\n",
    "from tqdm.auto import tqdm\n",
    "import numpy as np"
   ]
  },
  {
   "cell_type": "code",
   "execution_count": 32,
   "metadata": {},
   "outputs": [],
   "source": [
    "Reward = namedtuple('Reward', ['move', 'rew'])\n",
    "\n",
    "class History:\n",
    "    def __init__(self, x: [int], o: [int]) -> None:\n",
    "        available = set(range(1,10)) - set(x) - set(o)\n",
    "        self._x = set(x)\n",
    "        self._o = set(o)\n",
    "        self._tab = [Reward(move=num, rew=0) for num in available]"
   ]
  },
  {
   "cell_type": "code",
   "execution_count": 33,
   "metadata": {},
   "outputs": [],
   "source": [
    "MAGIC = [2, 7, 6, 9, 5, 1, 4, 3, 8]\n",
    "\n",
    "def print_board(pos):\n",
    "    \"\"\"Nicely prints the board\"\"\"\n",
    "    for r in range(3):\n",
    "        for c in range(3):\n",
    "            i = r * 3 + c\n",
    "            if MAGIC[i] in pos[1]:\n",
    "                print(' X ', end='')\n",
    "                if c != 2: print('|', end='')\n",
    "            elif MAGIC[i] in pos[0]:\n",
    "                print(' O ', end='')\n",
    "                if c != 2: print('|', end='')\n",
    "            else:\n",
    "                print(' . ', end='')\n",
    "                if c != 2: print('|', end='')\n",
    "        print()\n",
    "        if r != 2: print('-----------')\n",
    "    print()\n",
    "\n",
    "def win(elements):\n",
    "    \"\"\"Checks is elements is winning\"\"\"\n",
    "    return any(sum(c) == 15 for c in combinations(elements, 3))"
   ]
  },
  {
   "cell_type": "code",
   "execution_count": 34,
   "metadata": {},
   "outputs": [],
   "source": [
    "def random_player(available: set(), state):\n",
    "    for n in available:\n",
    "        state.add(n)\n",
    "        result = win(state)\n",
    "        state.remove(n)\n",
    "        if result: return n\n",
    "    return random.choice(list(available))"
   ]
  },
  {
   "cell_type": "code",
   "execution_count": 35,
   "metadata": {},
   "outputs": [],
   "source": [
    "# x = {1, 2, 3}\n",
    "# y = x.copy()\n",
    "# y.add(5)\n",
    "# y"
   ]
  },
  {
   "cell_type": "code",
   "execution_count": 36,
   "metadata": {},
   "outputs": [],
   "source": [
    "def find_state_in_history(history, state: ([int], [int])):\n",
    "    for rew in history:\n",
    "        if (rew._x == state[1]) & (rew._o == state[0]):\n",
    "            return rew\n",
    "    return None\n",
    "\n",
    "def RL_player(available: set(), state: ([int], [int]), history):\n",
    "    found = find_state_in_history(history, state)\n",
    "    if(found is not None):\n",
    "        max = sorted(found._tab, key=lambda x:x.rew, reverse=True)[0].rew\n",
    "        possible_move = list(move.move for move in found._tab if ((move.rew == max) & (any((move.move == a) for a in available))))\n",
    "        return random.choice(possible_move)\n",
    "    else:\n",
    "        history.append(History(state[1], state[0]))\n",
    "        return random.choice(list(available))\n",
    "    \n",
    "def update_rewards(state: ([int], [int]), history, move: int, update: int):\n",
    "    found = find_state_in_history(history, state)\n",
    "    if found is not None:\n",
    "         for i, reward in enumerate(found._tab):\n",
    "            if reward.move == move:\n",
    "                found._tab[i] = Reward(move=reward.move, rew=reward.rew + update)"
   ]
  },
  {
   "cell_type": "code",
   "execution_count": 37,
   "metadata": {},
   "outputs": [],
   "source": [
    "# player1: RL_player play with X\n",
    "# player0: random_player play with O\n",
    "\n",
    "history = []\n",
    "\n",
    "def random_game(first: int):\n",
    "    state = (set(), set())\n",
    "    available = set(range(1, 10))\n",
    "    now_playing = first\n",
    "    while available:\n",
    "        if(now_playing):\n",
    "            #player1\n",
    "            RL_play = RL_player(available, state, history)\n",
    "            previous_state = (set(state[0]), set(state[1]))\n",
    "            state[1].add(RL_play)\n",
    "            available.remove(RL_play)\n",
    "            if win(state[1]):\n",
    "                update_rewards(previous_state, history, RL_play, 2)\n",
    "                return 1\n",
    "        else:\n",
    "            #player0\n",
    "            random_play = random_player(available, state[0])\n",
    "            state[0].add(random_play)\n",
    "            available.remove(random_play)\n",
    "            if win(state[0]):\n",
    "                update_rewards(previous_state, history, RL_play, -1)\n",
    "                return 0\n",
    "        now_playing = 1 - now_playing\n",
    "    return '-'"
   ]
  },
  {
   "cell_type": "code",
   "execution_count": 38,
   "metadata": {},
   "outputs": [
    {
     "name": "stdout",
     "output_type": "stream",
     "text": [
      "Reinforcement Learning player won: {} times 80\n",
      "Random player won: {} times 10\n",
      "The match ended in draw {} times 10\n"
     ]
    }
   ],
   "source": [
    "RL_player_wins = 0\n",
    "random_player_wins = 0\n",
    "draw = 0\n",
    "first = 0\n",
    "\n",
    "# Warm-up\n",
    "for _ in range(100000):\n",
    "    random_game(first)\n",
    "    first = 1 - first\n",
    "\n",
    "# Let's play seriously\n",
    "for _ in range(100):\n",
    "    winner = random_game(first)\n",
    "    first = 1 - first\n",
    "    if winner == '-': draw += 1\n",
    "    elif winner == 0: random_player_wins += 1\n",
    "    elif winner == 1: RL_player_wins += 1\n",
    "\n",
    "print(\"Reinforcement Learning player won: {} times\", RL_player_wins)\n",
    "print(\"Random player won: {} times\", random_player_wins)\n",
    "print(\"The match ended in draw {} times\", draw)"
   ]
  }
 ],
 "metadata": {
  "kernelspec": {
   "display_name": "ci-P-7LqQ3C-py3.11",
   "language": "python",
   "name": "python3"
  },
  "language_info": {
   "codemirror_mode": {
    "name": "ipython",
    "version": 3
   },
   "file_extension": ".py",
   "mimetype": "text/x-python",
   "name": "python",
   "nbconvert_exporter": "python",
   "pygments_lexer": "ipython3",
   "version": "3.11.0"
  }
 },
 "nbformat": 4,
 "nbformat_minor": 2
}
